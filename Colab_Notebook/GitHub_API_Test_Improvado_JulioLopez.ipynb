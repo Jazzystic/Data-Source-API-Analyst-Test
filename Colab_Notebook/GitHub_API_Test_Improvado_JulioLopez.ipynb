{
  "nbformat": 4,
  "nbformat_minor": 0,
  "metadata": {
    "colab": {
      "provenance": []
    },
    "kernelspec": {
      "name": "python3",
      "display_name": "Python 3"
    },
    "language_info": {
      "name": "python"
    }
  },
  "cells": [
    {
      "cell_type": "code",
      "execution_count": 32,
      "metadata": {
        "id": "lljPfRg6TQkc"
      },
      "outputs": [],
      "source": [
        "# GitHub API Test – Improvado\n",
        "# Data Source API Analyst Assignment\n",
        "\n",
        "import requests\n",
        "\n",
        "# GitHub API authentication setup\n",
        "# Token should be set manually in this variable during runtime (not included in this notebook)\n",
        "token = \"Bearer YOUR_TOKEN_HERE\"\n",
        "\n",
        "# Standard headers for GitHub API\n",
        "headers = {\n",
        "    \"Authorization\": token,\n",
        "    \"X-GitHub-Api-Version\": \"2022-11-28\"\n",
        "}\n"
      ]
    },
    {
      "cell_type": "markdown",
      "source": [
        "---\n",
        "\n",
        "### A. Search Public Repositories\n",
        "\n",
        "This request tests the search endpoint by querying public repositories that contain the word \"data\" in their name.\n"
      ],
      "metadata": {
        "id": "_eHu-a-ht__-"
      }
    },
    {
      "cell_type": "code",
      "source": [
        "# A. Search Public Repositories\n",
        "# Endpoint: Search repositories containing the word \"data\" in their name\n",
        "\n",
        "search_url = \"https://api.github.com/search/repositories?q=data+in:name&per_page=5\"\n",
        "\n",
        "response = requests.get(search_url, headers=headers)\n",
        "\n",
        "print(\"Status code:\", response.status_code)\n",
        "print(response.json())"
      ],
      "metadata": {
        "colab": {
          "base_uri": "https://localhost:8080/"
        },
        "id": "wvl4LncBVhst",
        "outputId": "ecaffc36-c65d-428c-90d4-3603bc9a8641"
      },
      "execution_count": 33,
      "outputs": [
        {
          "output_type": "stream",
          "name": "stdout",
          "text": [
            "Status code: 200\n",
            "{'total_count': 3520080, 'incomplete_results': False, 'items': [{'id': 17829481, 'node_id': 'MDEwOlJlcG9zaXRvcnkxNzgyOTQ4MQ==', 'name': 'data', 'full_name': 'fivethirtyeight/data', 'private': False, 'owner': {'login': 'fivethirtyeight', 'id': 6267336, 'node_id': 'MDEyOk9yZ2FuaXphdGlvbjYyNjczMzY=', 'avatar_url': 'https://avatars.githubusercontent.com/u/6267336?v=4', 'gravatar_id': '', 'url': 'https://api.github.com/users/fivethirtyeight', 'html_url': 'https://github.com/fivethirtyeight', 'followers_url': 'https://api.github.com/users/fivethirtyeight/followers', 'following_url': 'https://api.github.com/users/fivethirtyeight/following{/other_user}', 'gists_url': 'https://api.github.com/users/fivethirtyeight/gists{/gist_id}', 'starred_url': 'https://api.github.com/users/fivethirtyeight/starred{/owner}{/repo}', 'subscriptions_url': 'https://api.github.com/users/fivethirtyeight/subscriptions', 'organizations_url': 'https://api.github.com/users/fivethirtyeight/orgs', 'repos_url': 'https://api.github.com/users/fivethirtyeight/repos', 'events_url': 'https://api.github.com/users/fivethirtyeight/events{/privacy}', 'received_events_url': 'https://api.github.com/users/fivethirtyeight/received_events', 'type': 'Organization', 'user_view_type': 'public', 'site_admin': False}, 'html_url': 'https://github.com/fivethirtyeight/data', 'description': 'Data and code behind the articles and graphics at FiveThirtyEight', 'fork': False, 'url': 'https://api.github.com/repos/fivethirtyeight/data', 'forks_url': 'https://api.github.com/repos/fivethirtyeight/data/forks', 'keys_url': 'https://api.github.com/repos/fivethirtyeight/data/keys{/key_id}', 'collaborators_url': 'https://api.github.com/repos/fivethirtyeight/data/collaborators{/collaborator}', 'teams_url': 'https://api.github.com/repos/fivethirtyeight/data/teams', 'hooks_url': 'https://api.github.com/repos/fivethirtyeight/data/hooks', 'issue_events_url': 'https://api.github.com/repos/fivethirtyeight/data/issues/events{/number}', 'events_url': 'https://api.github.com/repos/fivethirtyeight/data/events', 'assignees_url': 'https://api.github.com/repos/fivethirtyeight/data/assignees{/user}', 'branches_url': 'https://api.github.com/repos/fivethirtyeight/data/branches{/branch}', 'tags_url': 'https://api.github.com/repos/fivethirtyeight/data/tags', 'blobs_url': 'https://api.github.com/repos/fivethirtyeight/data/git/blobs{/sha}', 'git_tags_url': 'https://api.github.com/repos/fivethirtyeight/data/git/tags{/sha}', 'git_refs_url': 'https://api.github.com/repos/fivethirtyeight/data/git/refs{/sha}', 'trees_url': 'https://api.github.com/repos/fivethirtyeight/data/git/trees{/sha}', 'statuses_url': 'https://api.github.com/repos/fivethirtyeight/data/statuses/{sha}', 'languages_url': 'https://api.github.com/repos/fivethirtyeight/data/languages', 'stargazers_url': 'https://api.github.com/repos/fivethirtyeight/data/stargazers', 'contributors_url': 'https://api.github.com/repos/fivethirtyeight/data/contributors', 'subscribers_url': 'https://api.github.com/repos/fivethirtyeight/data/subscribers', 'subscription_url': 'https://api.github.com/repos/fivethirtyeight/data/subscription', 'commits_url': 'https://api.github.com/repos/fivethirtyeight/data/commits{/sha}', 'git_commits_url': 'https://api.github.com/repos/fivethirtyeight/data/git/commits{/sha}', 'comments_url': 'https://api.github.com/repos/fivethirtyeight/data/comments{/number}', 'issue_comment_url': 'https://api.github.com/repos/fivethirtyeight/data/issues/comments{/number}', 'contents_url': 'https://api.github.com/repos/fivethirtyeight/data/contents/{+path}', 'compare_url': 'https://api.github.com/repos/fivethirtyeight/data/compare/{base}...{head}', 'merges_url': 'https://api.github.com/repos/fivethirtyeight/data/merges', 'archive_url': 'https://api.github.com/repos/fivethirtyeight/data/{archive_format}{/ref}', 'downloads_url': 'https://api.github.com/repos/fivethirtyeight/data/downloads', 'issues_url': 'https://api.github.com/repos/fivethirtyeight/data/issues{/number}', 'pulls_url': 'https://api.github.com/repos/fivethirtyeight/data/pulls{/number}', 'milestones_url': 'https://api.github.com/repos/fivethirtyeight/data/milestones{/number}', 'notifications_url': 'https://api.github.com/repos/fivethirtyeight/data/notifications{?since,all,participating}', 'labels_url': 'https://api.github.com/repos/fivethirtyeight/data/labels{/name}', 'releases_url': 'https://api.github.com/repos/fivethirtyeight/data/releases{/id}', 'deployments_url': 'https://api.github.com/repos/fivethirtyeight/data/deployments', 'created_at': '2014-03-17T13:49:17Z', 'updated_at': '2025-06-19T19:51:54Z', 'pushed_at': '2025-02-25T19:40:33Z', 'git_url': 'git://github.com/fivethirtyeight/data.git', 'ssh_url': 'git@github.com:fivethirtyeight/data.git', 'clone_url': 'https://github.com/fivethirtyeight/data.git', 'svn_url': 'https://github.com/fivethirtyeight/data', 'homepage': 'https://data.fivethirtyeight.com/', 'size': 162076, 'stargazers_count': 17100, 'watchers_count': 17100, 'language': 'Jupyter Notebook', 'has_issues': True, 'has_projects': False, 'has_downloads': True, 'has_wiki': True, 'has_pages': False, 'has_discussions': False, 'forks_count': 11135, 'mirror_url': None, 'archived': False, 'disabled': False, 'open_issues_count': 19, 'license': {'key': 'cc-by-4.0', 'name': 'Creative Commons Attribution 4.0 International', 'spdx_id': 'CC-BY-4.0', 'url': 'https://api.github.com/licenses/cc-by-4.0', 'node_id': 'MDc6TGljZW5zZTI1'}, 'allow_forking': True, 'is_template': False, 'web_commit_signoff_required': False, 'topics': ['data'], 'visibility': 'public', 'forks': 11135, 'open_issues': 19, 'watchers': 17100, 'default_branch': 'master', 'permissions': {'admin': False, 'maintain': False, 'push': False, 'triage': False, 'pull': True}, 'score': 1.0}, {'id': 3016562, 'node_id': 'MDEwOlJlcG9zaXRvcnkzMDE2NTYy', 'name': 'data', 'full_name': 'emberjs/data', 'private': False, 'owner': {'login': 'emberjs', 'id': 1253363, 'node_id': 'MDEyOk9yZ2FuaXphdGlvbjEyNTMzNjM=', 'avatar_url': 'https://avatars.githubusercontent.com/u/1253363?v=4', 'gravatar_id': '', 'url': 'https://api.github.com/users/emberjs', 'html_url': 'https://github.com/emberjs', 'followers_url': 'https://api.github.com/users/emberjs/followers', 'following_url': 'https://api.github.com/users/emberjs/following{/other_user}', 'gists_url': 'https://api.github.com/users/emberjs/gists{/gist_id}', 'starred_url': 'https://api.github.com/users/emberjs/starred{/owner}{/repo}', 'subscriptions_url': 'https://api.github.com/users/emberjs/subscriptions', 'organizations_url': 'https://api.github.com/users/emberjs/orgs', 'repos_url': 'https://api.github.com/users/emberjs/repos', 'events_url': 'https://api.github.com/users/emberjs/events{/privacy}', 'received_events_url': 'https://api.github.com/users/emberjs/received_events', 'type': 'Organization', 'user_view_type': 'public', 'site_admin': False}, 'html_url': 'https://github.com/emberjs/data', 'description': 'WarpDrive is a lightweight data library for web apps — universal, typed, reactive, and ready to scale.', 'fork': False, 'url': 'https://api.github.com/repos/emberjs/data', 'forks_url': 'https://api.github.com/repos/emberjs/data/forks', 'keys_url': 'https://api.github.com/repos/emberjs/data/keys{/key_id}', 'collaborators_url': 'https://api.github.com/repos/emberjs/data/collaborators{/collaborator}', 'teams_url': 'https://api.github.com/repos/emberjs/data/teams', 'hooks_url': 'https://api.github.com/repos/emberjs/data/hooks', 'issue_events_url': 'https://api.github.com/repos/emberjs/data/issues/events{/number}', 'events_url': 'https://api.github.com/repos/emberjs/data/events', 'assignees_url': 'https://api.github.com/repos/emberjs/data/assignees{/user}', 'branches_url': 'https://api.github.com/repos/emberjs/data/branches{/branch}', 'tags_url': 'https://api.github.com/repos/emberjs/data/tags', 'blobs_url': 'https://api.github.com/repos/emberjs/data/git/blobs{/sha}', 'git_tags_url': 'https://api.github.com/repos/emberjs/data/git/tags{/sha}', 'git_refs_url': 'https://api.github.com/repos/emberjs/data/git/refs{/sha}', 'trees_url': 'https://api.github.com/repos/emberjs/data/git/trees{/sha}', 'statuses_url': 'https://api.github.com/repos/emberjs/data/statuses/{sha}', 'languages_url': 'https://api.github.com/repos/emberjs/data/languages', 'stargazers_url': 'https://api.github.com/repos/emberjs/data/stargazers', 'contributors_url': 'https://api.github.com/repos/emberjs/data/contributors', 'subscribers_url': 'https://api.github.com/repos/emberjs/data/subscribers', 'subscription_url': 'https://api.github.com/repos/emberjs/data/subscription', 'commits_url': 'https://api.github.com/repos/emberjs/data/commits{/sha}', 'git_commits_url': 'https://api.github.com/repos/emberjs/data/git/commits{/sha}', 'comments_url': 'https://api.github.com/repos/emberjs/data/comments{/number}', 'issue_comment_url': 'https://api.github.com/repos/emberjs/data/issues/comments{/number}', 'contents_url': 'https://api.github.com/repos/emberjs/data/contents/{+path}', 'compare_url': 'https://api.github.com/repos/emberjs/data/compare/{base}...{head}', 'merges_url': 'https://api.github.com/repos/emberjs/data/merges', 'archive_url': 'https://api.github.com/repos/emberjs/data/{archive_format}{/ref}', 'downloads_url': 'https://api.github.com/repos/emberjs/data/downloads', 'issues_url': 'https://api.github.com/repos/emberjs/data/issues{/number}', 'pulls_url': 'https://api.github.com/repos/emberjs/data/pulls{/number}', 'milestones_url': 'https://api.github.com/repos/emberjs/data/milestones{/number}', 'notifications_url': 'https://api.github.com/repos/emberjs/data/notifications{?since,all,participating}', 'labels_url': 'https://api.github.com/repos/emberjs/data/labels{/name}', 'releases_url': 'https://api.github.com/repos/emberjs/data/releases{/id}', 'deployments_url': 'https://api.github.com/repos/emberjs/data/deployments', 'created_at': '2011-12-20T01:50:40Z', 'updated_at': '2025-06-17T20:23:11Z', 'pushed_at': '2025-06-19T15:43:33Z', 'git_url': 'git://github.com/emberjs/data.git', 'ssh_url': 'git@github.com:emberjs/data.git', 'clone_url': 'https://github.com/emberjs/data.git', 'svn_url': 'https://github.com/emberjs/data', 'homepage': 'https://emberjs.github.io/data/', 'size': 348300, 'stargazers_count': 3076, 'watchers_count': 3076, 'language': 'TypeScript', 'has_issues': True, 'has_projects': True, 'has_downloads': True, 'has_wiki': False, 'has_pages': True, 'has_discussions': False, 'forks_count': 1337, 'mirror_url': None, 'archived': False, 'disabled': False, 'open_issues_count': 87, 'license': {'key': 'mit', 'name': 'MIT License', 'spdx_id': 'MIT', 'url': 'https://api.github.com/licenses/mit', 'node_id': 'MDc6TGljZW5zZTEz'}, 'allow_forking': True, 'is_template': False, 'web_commit_signoff_required': False, 'topics': ['data-framework', 'data-loading', 'data-patterns', 'ember', 'ember-data', 'fetch', 'hacktoberfest', 'javascript', 'local-first', 'mpa', 'offline-first', 'reactive-js', 'signals', 'spa', 'typescript', 'warp-drive'], 'visibility': 'public', 'forks': 1337, 'open_issues': 87, 'watchers': 3076, 'default_branch': 'main', 'permissions': {'admin': False, 'maintain': False, 'push': False, 'triage': False, 'pull': True}, 'score': 1.0}, {'id': 35078207, 'node_id': 'MDEwOlJlcG9zaXRvcnkzNTA3ODIwNw==', 'name': 'data', 'full_name': 'GoogleTrends/data', 'private': False, 'owner': {'login': 'GoogleTrends', 'id': 12246185, 'node_id': 'MDEyOk9yZ2FuaXphdGlvbjEyMjQ2MTg1', 'avatar_url': 'https://avatars.githubusercontent.com/u/12246185?v=4', 'gravatar_id': '', 'url': 'https://api.github.com/users/GoogleTrends', 'html_url': 'https://github.com/GoogleTrends', 'followers_url': 'https://api.github.com/users/GoogleTrends/followers', 'following_url': 'https://api.github.com/users/GoogleTrends/following{/other_user}', 'gists_url': 'https://api.github.com/users/GoogleTrends/gists{/gist_id}', 'starred_url': 'https://api.github.com/users/GoogleTrends/starred{/owner}{/repo}', 'subscriptions_url': 'https://api.github.com/users/GoogleTrends/subscriptions', 'organizations_url': 'https://api.github.com/users/GoogleTrends/orgs', 'repos_url': 'https://api.github.com/users/GoogleTrends/repos', 'events_url': 'https://api.github.com/users/GoogleTrends/events{/privacy}', 'received_events_url': 'https://api.github.com/users/GoogleTrends/received_events', 'type': 'Organization', 'user_view_type': 'public', 'site_admin': False}, 'html_url': 'https://github.com/GoogleTrends/data', 'description': 'An index of all open-source data', 'fork': False, 'url': 'https://api.github.com/repos/GoogleTrends/data', 'forks_url': 'https://api.github.com/repos/GoogleTrends/data/forks', 'keys_url': 'https://api.github.com/repos/GoogleTrends/data/keys{/key_id}', 'collaborators_url': 'https://api.github.com/repos/GoogleTrends/data/collaborators{/collaborator}', 'teams_url': 'https://api.github.com/repos/GoogleTrends/data/teams', 'hooks_url': 'https://api.github.com/repos/GoogleTrends/data/hooks', 'issue_events_url': 'https://api.github.com/repos/GoogleTrends/data/issues/events{/number}', 'events_url': 'https://api.github.com/repos/GoogleTrends/data/events', 'assignees_url': 'https://api.github.com/repos/GoogleTrends/data/assignees{/user}', 'branches_url': 'https://api.github.com/repos/GoogleTrends/data/branches{/branch}', 'tags_url': 'https://api.github.com/repos/GoogleTrends/data/tags', 'blobs_url': 'https://api.github.com/repos/GoogleTrends/data/git/blobs{/sha}', 'git_tags_url': 'https://api.github.com/repos/GoogleTrends/data/git/tags{/sha}', 'git_refs_url': 'https://api.github.com/repos/GoogleTrends/data/git/refs{/sha}', 'trees_url': 'https://api.github.com/repos/GoogleTrends/data/git/trees{/sha}', 'statuses_url': 'https://api.github.com/repos/GoogleTrends/data/statuses/{sha}', 'languages_url': 'https://api.github.com/repos/GoogleTrends/data/languages', 'stargazers_url': 'https://api.github.com/repos/GoogleTrends/data/stargazers', 'contributors_url': 'https://api.github.com/repos/GoogleTrends/data/contributors', 'subscribers_url': 'https://api.github.com/repos/GoogleTrends/data/subscribers', 'subscription_url': 'https://api.github.com/repos/GoogleTrends/data/subscription', 'commits_url': 'https://api.github.com/repos/GoogleTrends/data/commits{/sha}', 'git_commits_url': 'https://api.github.com/repos/GoogleTrends/data/git/commits{/sha}', 'comments_url': 'https://api.github.com/repos/GoogleTrends/data/comments{/number}', 'issue_comment_url': 'https://api.github.com/repos/GoogleTrends/data/issues/comments{/number}', 'contents_url': 'https://api.github.com/repos/GoogleTrends/data/contents/{+path}', 'compare_url': 'https://api.github.com/repos/GoogleTrends/data/compare/{base}...{head}', 'merges_url': 'https://api.github.com/repos/GoogleTrends/data/merges', 'archive_url': 'https://api.github.com/repos/GoogleTrends/data/{archive_format}{/ref}', 'downloads_url': 'https://api.github.com/repos/GoogleTrends/data/downloads', 'issues_url': 'https://api.github.com/repos/GoogleTrends/data/issues{/number}', 'pulls_url': 'https://api.github.com/repos/GoogleTrends/data/pulls{/number}', 'milestones_url': 'https://api.github.com/repos/GoogleTrends/data/milestones{/number}', 'notifications_url': 'https://api.github.com/repos/GoogleTrends/data/notifications{?since,all,participating}', 'labels_url': 'https://api.github.com/repos/GoogleTrends/data/labels{/name}', 'releases_url': 'https://api.github.com/repos/GoogleTrends/data/releases{/id}', 'deployments_url': 'https://api.github.com/repos/GoogleTrends/data/deployments', 'created_at': '2015-05-05T04:38:19Z', 'updated_at': '2025-06-17T08:53:14Z', 'pushed_at': '2023-12-24T15:55:29Z', 'git_url': 'git://github.com/GoogleTrends/data.git', 'ssh_url': 'git@github.com:GoogleTrends/data.git', 'clone_url': 'https://github.com/GoogleTrends/data.git', 'svn_url': 'https://github.com/GoogleTrends/data', 'homepage': None, 'size': 381746, 'stargazers_count': 4690, 'watchers_count': 4690, 'language': 'JavaScript', 'has_issues': True, 'has_projects': True, 'has_downloads': True, 'has_wiki': True, 'has_pages': True, 'has_discussions': False, 'forks_count': 453, 'mirror_url': None, 'archived': False, 'disabled': False, 'open_issues_count': 20, 'license': {'key': 'other', 'name': 'Other', 'spdx_id': 'NOASSERTION', 'url': None, 'node_id': 'MDc6TGljZW5zZTA='}, 'allow_forking': True, 'is_template': False, 'web_commit_signoff_required': False, 'topics': [], 'visibility': 'public', 'forks': 453, 'open_issues': 20, 'watchers': 4690, 'default_branch': 'master', 'permissions': {'admin': False, 'maintain': False, 'push': False, 'triage': False, 'pull': True}, 'score': 1.0}, {'id': 24950882, 'node_id': 'MDEwOlJlcG9zaXRvcnkyNDk1MDg4Mg==', 'name': 'data', 'full_name': 'GSA/data', 'private': False, 'owner': {'login': 'GSA', 'id': 643070, 'node_id': 'MDEyOk9yZ2FuaXphdGlvbjY0MzA3MA==', 'avatar_url': 'https://avatars.githubusercontent.com/u/643070?v=4', 'gravatar_id': '', 'url': 'https://api.github.com/users/GSA', 'html_url': 'https://github.com/GSA', 'followers_url': 'https://api.github.com/users/GSA/followers', 'following_url': 'https://api.github.com/users/GSA/following{/other_user}', 'gists_url': 'https://api.github.com/users/GSA/gists{/gist_id}', 'starred_url': 'https://api.github.com/users/GSA/starred{/owner}{/repo}', 'subscriptions_url': 'https://api.github.com/users/GSA/subscriptions', 'organizations_url': 'https://api.github.com/users/GSA/orgs', 'repos_url': 'https://api.github.com/users/GSA/repos', 'events_url': 'https://api.github.com/users/GSA/events{/privacy}', 'received_events_url': 'https://api.github.com/users/GSA/received_events', 'type': 'Organization', 'user_view_type': 'public', 'site_admin': False}, 'html_url': 'https://github.com/GSA/data', 'description': 'Assorted data from the General Services Administration.', 'fork': False, 'url': 'https://api.github.com/repos/GSA/data', 'forks_url': 'https://api.github.com/repos/GSA/data/forks', 'keys_url': 'https://api.github.com/repos/GSA/data/keys{/key_id}', 'collaborators_url': 'https://api.github.com/repos/GSA/data/collaborators{/collaborator}', 'teams_url': 'https://api.github.com/repos/GSA/data/teams', 'hooks_url': 'https://api.github.com/repos/GSA/data/hooks', 'issue_events_url': 'https://api.github.com/repos/GSA/data/issues/events{/number}', 'events_url': 'https://api.github.com/repos/GSA/data/events', 'assignees_url': 'https://api.github.com/repos/GSA/data/assignees{/user}', 'branches_url': 'https://api.github.com/repos/GSA/data/branches{/branch}', 'tags_url': 'https://api.github.com/repos/GSA/data/tags', 'blobs_url': 'https://api.github.com/repos/GSA/data/git/blobs{/sha}', 'git_tags_url': 'https://api.github.com/repos/GSA/data/git/tags{/sha}', 'git_refs_url': 'https://api.github.com/repos/GSA/data/git/refs{/sha}', 'trees_url': 'https://api.github.com/repos/GSA/data/git/trees{/sha}', 'statuses_url': 'https://api.github.com/repos/GSA/data/statuses/{sha}', 'languages_url': 'https://api.github.com/repos/GSA/data/languages', 'stargazers_url': 'https://api.github.com/repos/GSA/data/stargazers', 'contributors_url': 'https://api.github.com/repos/GSA/data/contributors', 'subscribers_url': 'https://api.github.com/repos/GSA/data/subscribers', 'subscription_url': 'https://api.github.com/repos/GSA/data/subscription', 'commits_url': 'https://api.github.com/repos/GSA/data/commits{/sha}', 'git_commits_url': 'https://api.github.com/repos/GSA/data/git/commits{/sha}', 'comments_url': 'https://api.github.com/repos/GSA/data/comments{/number}', 'issue_comment_url': 'https://api.github.com/repos/GSA/data/issues/comments{/number}', 'contents_url': 'https://api.github.com/repos/GSA/data/contents/{+path}', 'compare_url': 'https://api.github.com/repos/GSA/data/compare/{base}...{head}', 'merges_url': 'https://api.github.com/repos/GSA/data/merges', 'archive_url': 'https://api.github.com/repos/GSA/data/{archive_format}{/ref}', 'downloads_url': 'https://api.github.com/repos/GSA/data/downloads', 'issues_url': 'https://api.github.com/repos/GSA/data/issues{/number}', 'pulls_url': 'https://api.github.com/repos/GSA/data/pulls{/number}', 'milestones_url': 'https://api.github.com/repos/GSA/data/milestones{/number}', 'notifications_url': 'https://api.github.com/repos/GSA/data/notifications{?since,all,participating}', 'labels_url': 'https://api.github.com/repos/GSA/data/labels{/name}', 'releases_url': 'https://api.github.com/repos/GSA/data/releases{/id}', 'deployments_url': 'https://api.github.com/repos/GSA/data/deployments', 'created_at': '2014-10-08T16:57:59Z', 'updated_at': '2025-06-19T00:46:11Z', 'pushed_at': '2024-04-17T15:13:48Z', 'git_url': 'git://github.com/GSA/data.git', 'ssh_url': 'git@github.com:GSA/data.git', 'clone_url': 'https://github.com/GSA/data.git', 'svn_url': 'https://github.com/GSA/data', 'homepage': '', 'size': 11381, 'stargazers_count': 2169, 'watchers_count': 2169, 'language': 'HTML', 'has_issues': True, 'has_projects': False, 'has_downloads': True, 'has_wiki': False, 'has_pages': False, 'has_discussions': False, 'forks_count': 276, 'mirror_url': None, 'archived': False, 'disabled': False, 'open_issues_count': 13, 'license': None, 'allow_forking': True, 'is_template': False, 'web_commit_signoff_required': False, 'topics': ['data', 'domains', 'enterprise', 'standards', 'technology'], 'visibility': 'public', 'forks': 276, 'open_issues': 13, 'watchers': 2169, 'default_branch': 'master', 'permissions': {'admin': False, 'maintain': False, 'push': False, 'triage': False, 'pull': True}, 'score': 1.0}, {'id': 55239337, 'node_id': 'MDEwOlJlcG9zaXRvcnk1NTIzOTMzNw==', 'name': 'data', 'full_name': 'aptnotes/data', 'private': False, 'owner': {'login': 'aptnotes', 'id': 17533195, 'node_id': 'MDEyOk9yZ2FuaXphdGlvbjE3NTMzMTk1', 'avatar_url': 'https://avatars.githubusercontent.com/u/17533195?v=4', 'gravatar_id': '', 'url': 'https://api.github.com/users/aptnotes', 'html_url': 'https://github.com/aptnotes', 'followers_url': 'https://api.github.com/users/aptnotes/followers', 'following_url': 'https://api.github.com/users/aptnotes/following{/other_user}', 'gists_url': 'https://api.github.com/users/aptnotes/gists{/gist_id}', 'starred_url': 'https://api.github.com/users/aptnotes/starred{/owner}{/repo}', 'subscriptions_url': 'https://api.github.com/users/aptnotes/subscriptions', 'organizations_url': 'https://api.github.com/users/aptnotes/orgs', 'repos_url': 'https://api.github.com/users/aptnotes/repos', 'events_url': 'https://api.github.com/users/aptnotes/events{/privacy}', 'received_events_url': 'https://api.github.com/users/aptnotes/received_events', 'type': 'Organization', 'user_view_type': 'public', 'site_admin': False}, 'html_url': 'https://github.com/aptnotes/data', 'description': 'APTnotes data', 'fork': False, 'url': 'https://api.github.com/repos/aptnotes/data', 'forks_url': 'https://api.github.com/repos/aptnotes/data/forks', 'keys_url': 'https://api.github.com/repos/aptnotes/data/keys{/key_id}', 'collaborators_url': 'https://api.github.com/repos/aptnotes/data/collaborators{/collaborator}', 'teams_url': 'https://api.github.com/repos/aptnotes/data/teams', 'hooks_url': 'https://api.github.com/repos/aptnotes/data/hooks', 'issue_events_url': 'https://api.github.com/repos/aptnotes/data/issues/events{/number}', 'events_url': 'https://api.github.com/repos/aptnotes/data/events', 'assignees_url': 'https://api.github.com/repos/aptnotes/data/assignees{/user}', 'branches_url': 'https://api.github.com/repos/aptnotes/data/branches{/branch}', 'tags_url': 'https://api.github.com/repos/aptnotes/data/tags', 'blobs_url': 'https://api.github.com/repos/aptnotes/data/git/blobs{/sha}', 'git_tags_url': 'https://api.github.com/repos/aptnotes/data/git/tags{/sha}', 'git_refs_url': 'https://api.github.com/repos/aptnotes/data/git/refs{/sha}', 'trees_url': 'https://api.github.com/repos/aptnotes/data/git/trees{/sha}', 'statuses_url': 'https://api.github.com/repos/aptnotes/data/statuses/{sha}', 'languages_url': 'https://api.github.com/repos/aptnotes/data/languages', 'stargazers_url': 'https://api.github.com/repos/aptnotes/data/stargazers', 'contributors_url': 'https://api.github.com/repos/aptnotes/data/contributors', 'subscribers_url': 'https://api.github.com/repos/aptnotes/data/subscribers', 'subscription_url': 'https://api.github.com/repos/aptnotes/data/subscription', 'commits_url': 'https://api.github.com/repos/aptnotes/data/commits{/sha}', 'git_commits_url': 'https://api.github.com/repos/aptnotes/data/git/commits{/sha}', 'comments_url': 'https://api.github.com/repos/aptnotes/data/comments{/number}', 'issue_comment_url': 'https://api.github.com/repos/aptnotes/data/issues/comments{/number}', 'contents_url': 'https://api.github.com/repos/aptnotes/data/contents/{+path}', 'compare_url': 'https://api.github.com/repos/aptnotes/data/compare/{base}...{head}', 'merges_url': 'https://api.github.com/repos/aptnotes/data/merges', 'archive_url': 'https://api.github.com/repos/aptnotes/data/{archive_format}{/ref}', 'downloads_url': 'https://api.github.com/repos/aptnotes/data/downloads', 'issues_url': 'https://api.github.com/repos/aptnotes/data/issues{/number}', 'pulls_url': 'https://api.github.com/repos/aptnotes/data/pulls{/number}', 'milestones_url': 'https://api.github.com/repos/aptnotes/data/milestones{/number}', 'notifications_url': 'https://api.github.com/repos/aptnotes/data/notifications{?since,all,participating}', 'labels_url': 'https://api.github.com/repos/aptnotes/data/labels{/name}', 'releases_url': 'https://api.github.com/repos/aptnotes/data/releases{/id}', 'deployments_url': 'https://api.github.com/repos/aptnotes/data/deployments', 'created_at': '2016-04-01T14:44:03Z', 'updated_at': '2025-06-19T13:21:12Z', 'pushed_at': '2024-12-16T15:15:17Z', 'git_url': 'git://github.com/aptnotes/data.git', 'ssh_url': 'git@github.com:aptnotes/data.git', 'clone_url': 'https://github.com/aptnotes/data.git', 'svn_url': 'https://github.com/aptnotes/data', 'homepage': '', 'size': 751, 'stargazers_count': 1722, 'watchers_count': 1722, 'language': None, 'has_issues': True, 'has_projects': True, 'has_downloads': True, 'has_wiki': True, 'has_pages': False, 'has_discussions': False, 'forks_count': 283, 'mirror_url': None, 'archived': False, 'disabled': False, 'open_issues_count': 31, 'license': None, 'allow_forking': True, 'is_template': False, 'web_commit_signoff_required': False, 'topics': ['analysis', 'apt', 'malware'], 'visibility': 'public', 'forks': 283, 'open_issues': 31, 'watchers': 1722, 'default_branch': 'master', 'permissions': {'admin': False, 'maintain': False, 'push': False, 'triage': False, 'pull': True}, 'score': 1.0}]}\n"
          ]
        }
      ]
    },
    {
      "cell_type": "markdown",
      "source": [
        "---\n",
        "\n",
        "### B. Retrieve Commits from a Public Repository\n",
        "\n",
        "This request tests the commits endpoint using a well-known repository with active commit history.\n"
      ],
      "metadata": {
        "id": "EkmAaWaiuICe"
      }
    },
    {
      "cell_type": "code",
      "source": [
        "# B. Retrieve Commits from a Public Repository\n",
        "# Testing the commits endpoint on a known repository with active commit history\n",
        "\n",
        "owner = \"torvalds\"\n",
        "repo = \"linux\"\n",
        "commits_url = f\"https://api.github.com/repos/{owner}/{repo}/commits\"\n",
        "\n",
        "response = requests.get(commits_url, headers=headers)\n",
        "\n",
        "print(\"Status code:\", response.status_code)\n",
        "print(response.json()[:1])  # Display only the first commit for brevity\n"
      ],
      "metadata": {
        "colab": {
          "base_uri": "https://localhost:8080/"
        },
        "id": "SRP91eVxsYPF",
        "outputId": "7c3bbf75-3ba5-4c40-b28b-8a62093411a3"
      },
      "execution_count": 34,
      "outputs": [
        {
          "output_type": "stream",
          "name": "stdout",
          "text": [
            "Status code: 200\n",
            "[{'sha': '5c8013ae2e86ec36b07500ba4cacb14ab4d6f728', 'node_id': 'C_kwDOACN7MtoAKDVjODAxM2FlMmU4NmVjMzZiMDc1MDBiYTRjYWNiMTRhYjRkNmY3Mjg', 'commit': {'author': {'name': 'Linus Torvalds', 'email': 'torvalds@linux-foundation.org', 'date': '2025-06-19T17:21:32Z'}, 'committer': {'name': 'Linus Torvalds', 'email': 'torvalds@linux-foundation.org', 'date': '2025-06-19T17:21:32Z'}, 'message': 'Merge tag \\'net-6.16-rc3\\' of git://git.kernel.org/pub/scm/linux/kernel/git/netdev/net\\n\\nPull networking fixes from Jakub Kicinski:\\n \"Including fixes from wireless.\\n\\n  The ath12k fix to avoid FW crashes requires adding support for a\\n  number of new FW commands so it\\'s quite large in terms of LoC. The\\n  rest is relatively small.\\n\\n  Current release - fix to a fix:\\n\\n   - ptp: fix breakage after ptp_vclock_in_use() rework\\n\\n  Current release - regressions:\\n\\n   - openvswitch: allocate struct ovs_pcpu_storage dynamically, static\\n     allocation may exhaust module loader limit on smaller systems\\n\\n  Previous releases - regressions:\\n\\n   - tcp: fix tcp_packet_delayed() for peers with no selective ACK\\n     support\\n\\n  Previous releases - always broken:\\n\\n   - wifi: ath12k: don\\'t activate more links than firmware supports\\n\\n   - tcp: make sure sockets open via passive TFO have valid NAPI ID\\n\\n   - eth: bnxt_en: update MRU and RSS table of RSS contexts on queue\\n     reset, prevent Rx queues from silently hanging after queue reset\\n\\n   - NFC: uart: set tty->disc_data only in success path\"\\n\\n* tag \\'net-6.16-rc3\\' of git://git.kernel.org/pub/scm/linux/kernel/git/netdev/net: (59 commits)\\n  net: airoha: Differentiate hwfd buffer size for QDMA0 and QDMA1\\n  net: airoha: Compute number of descriptors according to reserved memory size\\n  tools: ynl: fix mixing ops and notifications on one socket\\n  net: atm: fix /proc/net/atm/lec handling\\n  net: atm: add lec_mutex\\n  mlxbf_gige: return EPROBE_DEFER if PHY IRQ is not available\\n  net: airoha: Always check return value from airoha_ppe_foe_get_entry()\\n  NFC: nci: uart: Set tty->disc_data only in success path\\n  calipso: Fix null-ptr-deref in calipso_req_{set,del}attr().\\n  MAINTAINERS: Remove Shannon Nelson from MAINTAINERS file\\n  net: lan743x: fix potential out-of-bounds write in lan743x_ptp_io_event_clock_get()\\n  eth: fbnic: avoid double free when failing to DMA-map FW msg\\n  tcp: fix passive TFO socket having invalid NAPI ID\\n  selftests: net: add test for passive TFO socket NAPI ID\\n  selftests: net: add passive TFO test binary\\n  selftests: netdevsim: improve lib.sh include in peer.sh\\n  tipc: fix null-ptr-deref when acquiring remote ip of ethernet bearer\\n  Octeontx2-pf: Fix Backpresure configuration\\n  net: ftgmac100: select FIXED_PHY\\n  net: ethtool: remove duplicate defines for family info\\n  ...', 'tree': {'sha': '4ad2207b3b131c80e9a102d27f6c405d1c316d1d', 'url': 'https://api.github.com/repos/torvalds/linux/git/trees/4ad2207b3b131c80e9a102d27f6c405d1c316d1d'}, 'url': 'https://api.github.com/repos/torvalds/linux/git/commits/5c8013ae2e86ec36b07500ba4cacb14ab4d6f728', 'comment_count': 0, 'verification': {'verified': False, 'reason': 'unsigned', 'signature': None, 'payload': None, 'verified_at': None}}, 'url': 'https://api.github.com/repos/torvalds/linux/commits/5c8013ae2e86ec36b07500ba4cacb14ab4d6f728', 'html_url': 'https://github.com/torvalds/linux/commit/5c8013ae2e86ec36b07500ba4cacb14ab4d6f728', 'comments_url': 'https://api.github.com/repos/torvalds/linux/commits/5c8013ae2e86ec36b07500ba4cacb14ab4d6f728/comments', 'author': {'login': 'torvalds', 'id': 1024025, 'node_id': 'MDQ6VXNlcjEwMjQwMjU=', 'avatar_url': 'https://avatars.githubusercontent.com/u/1024025?v=4', 'gravatar_id': '', 'url': 'https://api.github.com/users/torvalds', 'html_url': 'https://github.com/torvalds', 'followers_url': 'https://api.github.com/users/torvalds/followers', 'following_url': 'https://api.github.com/users/torvalds/following{/other_user}', 'gists_url': 'https://api.github.com/users/torvalds/gists{/gist_id}', 'starred_url': 'https://api.github.com/users/torvalds/starred{/owner}{/repo}', 'subscriptions_url': 'https://api.github.com/users/torvalds/subscriptions', 'organizations_url': 'https://api.github.com/users/torvalds/orgs', 'repos_url': 'https://api.github.com/users/torvalds/repos', 'events_url': 'https://api.github.com/users/torvalds/events{/privacy}', 'received_events_url': 'https://api.github.com/users/torvalds/received_events', 'type': 'User', 'user_view_type': 'public', 'site_admin': False}, 'committer': {'login': 'torvalds', 'id': 1024025, 'node_id': 'MDQ6VXNlcjEwMjQwMjU=', 'avatar_url': 'https://avatars.githubusercontent.com/u/1024025?v=4', 'gravatar_id': '', 'url': 'https://api.github.com/users/torvalds', 'html_url': 'https://github.com/torvalds', 'followers_url': 'https://api.github.com/users/torvalds/followers', 'following_url': 'https://api.github.com/users/torvalds/following{/other_user}', 'gists_url': 'https://api.github.com/users/torvalds/gists{/gist_id}', 'starred_url': 'https://api.github.com/users/torvalds/starred{/owner}{/repo}', 'subscriptions_url': 'https://api.github.com/users/torvalds/subscriptions', 'organizations_url': 'https://api.github.com/users/torvalds/orgs', 'repos_url': 'https://api.github.com/users/torvalds/repos', 'events_url': 'https://api.github.com/users/torvalds/events{/privacy}', 'received_events_url': 'https://api.github.com/users/torvalds/received_events', 'type': 'User', 'user_view_type': 'public', 'site_admin': False}, 'parents': [{'sha': '24770983ccfec854d89da9d87ca5f2c9efc695fc', 'url': 'https://api.github.com/repos/torvalds/linux/commits/24770983ccfec854d89da9d87ca5f2c9efc695fc', 'html_url': 'https://github.com/torvalds/linux/commit/24770983ccfec854d89da9d87ca5f2c9efc695fc'}, {'sha': '16ef63acb784bd0951a08c6feb108d19d9488800', 'url': 'https://api.github.com/repos/torvalds/linux/commits/16ef63acb784bd0951a08c6feb108d19d9488800', 'html_url': 'https://github.com/torvalds/linux/commit/16ef63acb784bd0951a08c6feb108d19d9488800'}]}]\n"
          ]
        }
      ]
    },
    {
      "cell_type": "markdown",
      "source": [
        "---\n",
        "\n",
        "### C. Access File Content from a Repository (Expected 404)\n",
        "\n",
        "This request attempts to retrieve a README.md file from a repository where it does not exist, which triggers a 404 Not Found error.\n"
      ],
      "metadata": {
        "id": "04zJ2hYbuNxI"
      }
    },
    {
      "cell_type": "code",
      "source": [
        "# C. Access File Content from a Repository\n",
        "# Endpoint: Access the README.md file content from the same repository\n",
        "\n",
        "contents_url = f\"https://api.github.com/repos/{owner}/{repo}/contents/README.md\"\n",
        "\n",
        "response = requests.get(contents_url, headers=headers)\n",
        "\n",
        "print(\"Status code:\", response.status_code)\n",
        "print(response.json())"
      ],
      "metadata": {
        "colab": {
          "base_uri": "https://localhost:8080/"
        },
        "id": "DPLyuoufVpHr",
        "outputId": "dbf351e0-6653-4eb9-b3b3-8f8aa79e765c"
      },
      "execution_count": 35,
      "outputs": [
        {
          "output_type": "stream",
          "name": "stdout",
          "text": [
            "Status code: 404\n",
            "{'message': 'Not Found', 'documentation_url': 'https://docs.github.com/rest/repos/contents#get-repository-content', 'status': '404'}\n"
          ]
        }
      ]
    },
    {
      "cell_type": "markdown",
      "source": [
        "### Handling a 404 Error in the GitHub Contents API\n",
        "\n",
        "When I initially tested the `octocat/Hello-World` repository, the API returned a 404 Not Found response. This was expected, since the repository does not contain a README file at the root level.\n",
        "\n",
        "To validate the functionality of the endpoint, I repeated the request using the `torvalds/linux` repository, which is known to contain a `README` file. This second attempt returned a 200 OK response, confirming that my authentication headers and request structure were implemented correctly."
      ],
      "metadata": {
        "id": "cLvTLfUBYAro"
      }
    },
    {
      "cell_type": "markdown",
      "source": [
        "---\n",
        "\n",
        "### D. Access File Content from a Repository (Expected 200)\n",
        "\n",
        "This request retrieves a README.md file from a valid repository. The response includes file metadata and confirms correct access and authentication.\n"
      ],
      "metadata": {
        "id": "EOOAXvUtubam"
      }
    },
    {
      "cell_type": "code",
      "source": [
        "# D. Access File Content from a Repository\n",
        "# Using a known repository with an accessible README file\n",
        "\n",
        "owner = \"torvalds\"\n",
        "repo = \"linux\"\n",
        "path = \"README\"\n",
        "\n",
        "contents_url = f\"https://api.github.com/repos/{owner}/{repo}/contents/{path}\"\n",
        "\n",
        "response = requests.get(contents_url, headers=headers)\n",
        "\n",
        "print(\"Status code:\", response.status_code)\n",
        "print(response.json())"
      ],
      "metadata": {
        "colab": {
          "base_uri": "https://localhost:8080/"
        },
        "id": "jmImjurrXrEA",
        "outputId": "a2e27022-b941-402d-a23e-1233dcb4b204"
      },
      "execution_count": 36,
      "outputs": [
        {
          "output_type": "stream",
          "name": "stdout",
          "text": [
            "Status code: 200\n",
            "{'name': 'README', 'path': 'README', 'sha': 'fd903645e6de0628ed3274423355426ec0347bab', 'size': 726, 'url': 'https://api.github.com/repos/torvalds/linux/contents/README?ref=master', 'html_url': 'https://github.com/torvalds/linux/blob/master/README', 'git_url': 'https://api.github.com/repos/torvalds/linux/git/blobs/fd903645e6de0628ed3274423355426ec0347bab', 'download_url': 'https://raw.githubusercontent.com/torvalds/linux/master/README', 'type': 'file', 'content': 'TGludXgga2VybmVsCj09PT09PT09PT09PQoKVGhlcmUgYXJlIHNldmVyYWwg\\nZ3VpZGVzIGZvciBrZXJuZWwgZGV2ZWxvcGVycyBhbmQgdXNlcnMuIFRoZXNl\\nIGd1aWRlcyBjYW4KYmUgcmVuZGVyZWQgaW4gYSBudW1iZXIgb2YgZm9ybWF0\\ncywgbGlrZSBIVE1MIGFuZCBQREYuIFBsZWFzZSByZWFkCkRvY3VtZW50YXRp\\nb24vYWRtaW4tZ3VpZGUvUkVBRE1FLnJzdCBmaXJzdC4KCkluIG9yZGVyIHRv\\nIGJ1aWxkIHRoZSBkb2N1bWVudGF0aW9uLCB1c2UgYGBtYWtlIGh0bWxkb2Nz\\nYGAgb3IKYGBtYWtlIHBkZmRvY3NgYC4gIFRoZSBmb3JtYXR0ZWQgZG9jdW1l\\nbnRhdGlvbiBjYW4gYWxzbyBiZSByZWFkIG9ubGluZSBhdDoKCiAgICBodHRw\\nczovL3d3dy5rZXJuZWwub3JnL2RvYy9odG1sL2xhdGVzdC8KClRoZXJlIGFy\\nZSB2YXJpb3VzIHRleHQgZmlsZXMgaW4gdGhlIERvY3VtZW50YXRpb24vIHN1\\nYmRpcmVjdG9yeSwKc2V2ZXJhbCBvZiB0aGVtIHVzaW5nIHRoZSByZVN0cnVj\\ndHVyZWRUZXh0IG1hcmt1cCBub3RhdGlvbi4KClBsZWFzZSByZWFkIHRoZSBE\\nb2N1bWVudGF0aW9uL3Byb2Nlc3MvY2hhbmdlcy5yc3QgZmlsZSwgYXMgaXQg\\nY29udGFpbnMgdGhlCnJlcXVpcmVtZW50cyBmb3IgYnVpbGRpbmcgYW5kIHJ1\\nbm5pbmcgdGhlIGtlcm5lbCwgYW5kIGluZm9ybWF0aW9uIGFib3V0CnRoZSBw\\ncm9ibGVtcyB3aGljaCBtYXkgcmVzdWx0IGJ5IHVwZ3JhZGluZyB5b3VyIGtl\\ncm5lbC4K\\n', 'encoding': 'base64', '_links': {'self': 'https://api.github.com/repos/torvalds/linux/contents/README?ref=master', 'git': 'https://api.github.com/repos/torvalds/linux/git/blobs/fd903645e6de0628ed3274423355426ec0347bab', 'html': 'https://github.com/torvalds/linux/blob/master/README'}}\n"
          ]
        }
      ]
    }
  ]
}